{
 "cells": [
  {
   "cell_type": "code",
   "execution_count": 2,
   "metadata": {},
   "outputs": [],
   "source": [
    "# preprocessing to create empty years"
   ]
  },
  {
   "cell_type": "code",
   "execution_count": 3,
   "metadata": {},
   "outputs": [],
   "source": [
    "import pandas as pd\n",
    "\n",
    "df = pd.read_csv('co2.csv')\n",
    "\n",
    "years = sorted(df.Year.unique())\n",
    "\n",
    "# join each unique years, and merge\n",
    "country_lst = []\n",
    "year_lst = []\n",
    "for country in df.country.unique():\n",
    "    for year in years:\n",
    "        year_lst.append(year)\n",
    "        country_lst.append(country)\n",
    "\n",
    "new_df = pd.DataFrame(list(zip(year_lst, country_lst)), columns=['Year', 'country'])\n",
    "\n",
    "co2 = df.merge(new_df, left_on='country', right_on='country', how='outer')\n",
    "co2 = co2.drop('Year_y', axis=1).rename(columns={'Year_x':'Year'})"
   ]
  },
  {
   "cell_type": "code",
   "execution_count": null,
   "metadata": {},
   "outputs": [],
   "source": []
  }
 ],
 "metadata": {
  "kernelspec": {
   "display_name": "Python 3",
   "language": "python",
   "name": "python3"
  },
  "language_info": {
   "codemirror_mode": {
    "name": "ipython",
    "version": 3
   },
   "file_extension": ".py",
   "mimetype": "text/x-python",
   "name": "python",
   "nbconvert_exporter": "python",
   "pygments_lexer": "ipython3",
   "version": "3.8.5"
  }
 },
 "nbformat": 4,
 "nbformat_minor": 4
}
